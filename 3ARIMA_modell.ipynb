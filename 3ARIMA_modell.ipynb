{
 "cells": [
  {
   "cell_type": "code",
   "execution_count": null,
   "metadata": {},
   "outputs": [],
   "source": [
    "import pandas as pd\n",
    "import plotly.express as px\n",
    "import plotly.graph_objects as go\n",
    "import random\n",
    "from statsmodels.graphics.tsaplots import plot_acf, plot_pacf\n",
    "\n",
    "import requests\n",
    "import json\n",
    "\n",
    "\n",
    "client_id = 'dc2f1fa6-fb4e-488f-a13e-f2ad8c1edecd'\n"
   ]
  },
  {
   "cell_type": "code",
   "execution_count": null,
   "metadata": {},
   "outputs": [],
   "source": [
    "#Temperatures for: DRAMMEN - BANGELØKKA\n",
    "endpoint = 'https://frost.met.no/observations/v0.jsonld?sources=SN26580&referencetime=2021-02-01/2021-02-10&elements=air_temperature&timeoffsets=default&levels=default'\n",
    "\n",
    "\n",
    "# Issue an HTTP GET request\n",
    "r = requests.get(endpoint, auth=(client_id,''))\n",
    "# Extract JSON data\n",
    "result_json = r.json()\n",
    "data = result_json['data']"
   ]
  },
  {
   "cell_type": "code",
   "execution_count": null,
   "metadata": {},
   "outputs": [],
   "source": [
    "data"
   ]
  },
  {
   "cell_type": "code",
   "execution_count": null,
   "metadata": {},
   "outputs": [],
   "source": [
    "#Retrieving the data of interest by looping through every entry of the list\n",
    "data_tmp = [(entry['referenceTime'], obs['value']) for entry in data for obs in entry['observations']]\n",
    "\n",
    "#Adding the data_tmp-values to a dataframe called temperature_df\n",
    "temperature_df = pd.DataFrame(data_tmp, columns=['referenceTime', 'value'])\n",
    "#Renaming the 'value'-column to 'historical_temperature'\n",
    "temperature_df.rename(columns={'value':'historical_temperatures'}, inplace=True)\n",
    "\n",
    "#Making the 'reference_time the datetime index of the dataframe\n",
    "temperature_df['referenceTime'] = pd.to_datetime(temperature_df['referenceTime'])\n",
    "temperature_df.set_index('referenceTime', inplace=True)\n",
    "#Resampling to hourly resolution and interpolating\n",
    "temperature_df = temperature_df.resample('H').interpolate()\n"
   ]
  },
  {
   "cell_type": "code",
   "execution_count": null,
   "metadata": {},
   "outputs": [],
   "source": [
    "temperature_df.head(2)"
   ]
  },
  {
   "cell_type": "code",
   "execution_count": null,
   "metadata": {},
   "outputs": [],
   "source": [
    "#Plotting the temperatures\n",
    "\n",
    "fig = px.line(temperature_df, title='Temperature plot')\n",
    "\n",
    "# Show the plot\n",
    "fig.show()\n"
   ]
  },
  {
   "cell_type": "code",
   "execution_count": null,
   "metadata": {},
   "outputs": [],
   "source": [
    "from statsmodels.graphics.tsaplots import plot_acf, plot_pacf\n",
    "\n",
    "training_start_date = '2021-02-01 00:00:00+00:00'\n",
    "training_end_date = '2021-02-01 23:00:00+00:00'\n",
    "predicting_start_date = '2021-02-02 00:00:00+00:00'\n",
    "predicting_end_date = '2021-02-02 23:00:00+00:00'\n",
    "\n",
    "# Filter data within the specified datetime range\n",
    "df_train = temperature_df.loc[training_start_date:training_end_date]\n",
    "df_test = temperature_df.loc[predicting_start_date:predicting_end_date]\n"
   ]
  },
  {
   "cell_type": "code",
   "execution_count": null,
   "metadata": {},
   "outputs": [],
   "source": [
    "#Plotting the temperatures\n",
    "\n",
    "fig = px.line(df_test, title='Temperature plot')\n",
    "\n",
    "# Show the plot\n",
    "fig.show()\n"
   ]
  },
  {
   "cell_type": "code",
   "execution_count": null,
   "metadata": {},
   "outputs": [],
   "source": [
    "from statsmodels.tsa.stattools import adfuller\n",
    "adf_test = adfuller(df_train)\n",
    "print(f'p-value: {adf_test[1]}')"
   ]
  },
  {
   "cell_type": "code",
   "execution_count": null,
   "metadata": {},
   "outputs": [],
   "source": [
    "from statsmodels.tsa.arima.model import ARIMA\n",
    "\n",
    "def predicting(df_train, df_test, start_date, end_date, p, d, q):\n",
    "    model = ARIMA(df_train, order=(p,d,q))\n",
    "    model = model.fit()\n",
    "    df_test['predictions'] = model.predict(start=start_date, end=end_date, typ='levels')\n",
    "    df_test[start_date:end_date]"
   ]
  },
  {
   "cell_type": "code",
   "execution_count": null,
   "metadata": {},
   "outputs": [],
   "source": [
    "from statsmodels.graphics.tsaplots import plot_pacf\n",
    "plot_pacf(df_test['historical_temperatures'].diff().dropna())"
   ]
  },
  {
   "cell_type": "code",
   "execution_count": null,
   "metadata": {},
   "outputs": [],
   "source": [
    "plot_acf(df_test['historical_temperatures'].diff().dropna())"
   ]
  },
  {
   "cell_type": "code",
   "execution_count": null,
   "metadata": {},
   "outputs": [],
   "source": [
    "start_date='2021-02-02 00:00:00+00:00'\n",
    "end_date='2021-02-02 23:00:00+00:00'\n",
    "p=6\n",
    "d=1\n",
    "q=1\n",
    "#p = number of past values included in the AR model\n",
    "#d = number of times the time series is differenced\n",
    "#q = the number of past forecast errors included in the MA model\n",
    "\n",
    "predicting(df_test=df_test, df_train=df_train, start_date=start_date,end_date=end_date, p=p, d=d, q=q)\n"
   ]
  },
  {
   "cell_type": "code",
   "execution_count": null,
   "metadata": {},
   "outputs": [],
   "source": [
    "prediction_fig = px.line()\n",
    "\n",
    "prediction_fig.add_trace(\n",
    "                go.Scatter(\n",
    "                    x=temperature_df.index,\n",
    "                    y=temperature_df['historical_temperatures']['2021-02-01 00:00:00+00:00':'2021-02-03 09:00:00+00:00'],\n",
    "                    mode=\"lines\",\n",
    "                    name='actual historical temperatures',\n",
    "                    line=dict(color=\"blue\"),\n",
    "                )\n",
    "            )\n",
    "prediction_fig.add_trace(\n",
    "                go.Scatter(\n",
    "                    x=df_test.index,\n",
    "                    y=df_test['predictions'],\n",
    "                    mode=\"lines\",\n",
    "                    name='Predictions',\n",
    "                    line=dict(color=\"green\"),\n",
    "                )\n",
    "            )\n",
    "prediction_fig.show()\n"
   ]
  },
  {
   "cell_type": "code",
   "execution_count": null,
   "metadata": {},
   "outputs": [],
   "source": [
    "\n",
    "difference = df_test['predictions'] - df_test['historical_temperatures']\n",
    "difference_plot = px.line(df_test['predictions'] - df_test['historical_temperatures'])\n",
    "difference_plot.show()"
   ]
  },
  {
   "cell_type": "code",
   "execution_count": null,
   "metadata": {},
   "outputs": [],
   "source": [
    "import pmdarima as pm\n",
    "auto_arima = pm.auto_arima(df_train, stepwise=False, seasonal=False)\n",
    "auto_arima"
   ]
  },
  {
   "cell_type": "code",
   "execution_count": null,
   "metadata": {},
   "outputs": [],
   "source": [
    "auto_arima.summary()"
   ]
  },
  {
   "cell_type": "code",
   "execution_count": null,
   "metadata": {},
   "outputs": [],
   "source": [
    "forecast_test_auto = auto_arima.predict(n_periods=len(df_test))\n",
    "\n",
    "df = pd.DataFrame()\n",
    "df['forecast_auto'] = [None]*len(df_train) + list(forecast_test_auto)\n",
    "df.plot()"
   ]
  },
  {
   "cell_type": "markdown",
   "metadata": {},
   "source": [
    "## Monte Carlo Simulation"
   ]
  },
  {
   "cell_type": "code",
   "execution_count": null,
   "metadata": {},
   "outputs": [],
   "source": [
    "import numpy as np\n",
    "\n",
    "def monte_carlo_simulation(df_train, df_test, start_date, end_date, p, d, q, num_simulations):\n",
    "\n",
    "    montecarlofig = px.line()\n",
    "\n",
    "    for i in range(num_simulations):\n",
    "\n",
    "\n",
    "        p_variation = np.random.randint(-1, 2) \n",
    "        d_variation = np.random.randint(-1, 2)\n",
    "        q_variation = np.random.randint(-1, 2)\n",
    "    \n",
    "        model = ARIMA(df_train, order=(p + p_variation, d + d_variation, q + q_variation))\n",
    "        model = model.fit()\n",
    "\n",
    "        df_test[f'Simulation_{i + 1}'] = model.predict(start=start_date, end=end_date, typ='levels')\n",
    "\n",
    "\n",
    "        montecarlofig.add_trace(\n",
    "                go.Scatter(\n",
    "                    x=df_test.index,\n",
    "                    y=df_test[f'Simulation_{i + 1}'],\n",
    "                    mode=\"lines\",\n",
    "                    name=f'Simulation_{i + 1}',\n",
    "                    line=dict(color=\"green\"),\n",
    "                )\n",
    "            )\n",
    "        \n",
    "    montecarlofig.add_trace(\n",
    "    go.Scatter(\n",
    "        x=df_test.index,\n",
    "        y=df_test['predictions'],\n",
    "        mode=\"lines\",\n",
    "        name=f'Initial prediction',\n",
    "        line=dict(color=\"red\"),\n",
    "        )\n",
    "    )\n",
    "    montecarlofig.add_trace(\n",
    "    go.Scatter(\n",
    "        x=df_test.index,\n",
    "        y=df_test['historical_temperatures'],\n",
    "        mode=\"lines\",\n",
    "        name=f'Historical data',\n",
    "        line=dict(color=\"blue\"),\n",
    "        )\n",
    "    )\n",
    "        \n",
    "\n",
    "    montecarlofig.show()"
   ]
  },
  {
   "cell_type": "code",
   "execution_count": null,
   "metadata": {},
   "outputs": [],
   "source": [
    "monte_carlo_simulation(df_train, df_test, start_date, end_date, p=1, d=1, q=1, num_simulations=1000)"
   ]
  }
 ],
 "metadata": {
  "kernelspec": {
   "display_name": "Python 3",
   "language": "python",
   "name": "python3"
  },
  "language_info": {
   "codemirror_mode": {
    "name": "ipython",
    "version": 3
   },
   "file_extension": ".py",
   "mimetype": "text/x-python",
   "name": "python",
   "nbconvert_exporter": "python",
   "pygments_lexer": "ipython3",
   "version": "3.11.5"
  }
 },
 "nbformat": 4,
 "nbformat_minor": 2
}
