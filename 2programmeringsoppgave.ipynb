{
 "cells": [
  {
   "cell_type": "code",
   "execution_count": null,
   "metadata": {},
   "outputs": [],
   "source": [
    "import pandas as pd\n",
    "import plotly.express as px\n",
    "import plotly.graph_objects as go\n",
    "import json\n",
    "\n",
    "from sklearn.linear_model import LinearRegression\n",
    "from urllib.request import Request, urlopen\n"
   ]
  },
  {
   "cell_type": "code",
   "execution_count": null,
   "metadata": {},
   "outputs": [],
   "source": [
    "#Retrieving data from NVE\n",
    "def get_NVE_data():\n",
    "    \"\"\"A function to retrieve data from NVE\n",
    "\n",
    "    Returns:\n",
    "        A list with a dictionary containing the results.\n",
    "    \"\"\"\n",
    "    #Hardcoded parameters can be passed as variables.\n",
    "    api_key = 'VERauKbJ40GNb4FmcthF0Q== '\n",
    "    station = '12.298.0'\n",
    "    parameter = '1003'                      #parameter defines the type of data\n",
    "    resolution_time = '60'                  #resolution in minutes\n",
    "    reference_time = '2021-01-01/2021-12-31'\n",
    "\n",
    "    baseurl = \"https://hydapi.nve.no/api/v1/Observations?StationId={station}&Parameter={parameter}&ResolutionTime={resolution_time}\"\n",
    "\n",
    "    url = baseurl.format(station=station, parameter=parameter,\n",
    "                         resolution_time=resolution_time)\n",
    "    \n",
    "    #If reference_time parameter is provided, then update the url.\n",
    "    if reference_time is not None:\n",
    "        url = \"{url}&ReferenceTime={reference_time}\".format(\n",
    "        url=url, reference_time=reference_time)\n",
    "\n",
    "    print('Retrieving data from:', url)\n",
    "\n",
    "    request_headers = {\n",
    "        \"Accept\": \"application/json\",\n",
    "        \"X-API-Key\": api_key\n",
    "    }\n",
    "\n",
    "    request = Request(url, headers=request_headers)\n",
    "    response = urlopen(request)\n",
    "    content = response.read().decode('utf-8')\n",
    "    parsed_result = json.loads(content)\n",
    "    \n",
    "    return parsed_result['data']\n",
    "        "
   ]
  },
  {
   "cell_type": "code",
   "execution_count": null,
   "metadata": {},
   "outputs": [],
   "source": [
    "#Retrievining the data from the local csv-file containing stator temperatures and effects.\n",
    "\n",
    "data_2021 = pd.read_csv('data_2021.csv')\n",
    "data_2021['timestamp'] = pd.to_datetime(data_2021['timestamp'], utc=True)\n",
    "data_2021.set_index('timestamp', inplace=True)   \n",
    "data_2021\n",
    "   "
   ]
  },
  {
   "cell_type": "code",
   "execution_count": null,
   "metadata": {},
   "outputs": [],
   "source": [
    "# Reshaping dataframe based on column values in \"id\"-column and interpolating to hourly resolution\n",
    "data = data_2021.pivot(columns='id', values='value')\n",
    "data = data.resample('H').interpolate()\n",
    " \n",
    "data.head()\n"
   ]
  },
  {
   "cell_type": "code",
   "execution_count": null,
   "metadata": {},
   "outputs": [],
   "source": [
    "NVE_data = get_NVE_data()\n",
    "NVE_data"
   ]
  },
  {
   "cell_type": "code",
   "execution_count": null,
   "metadata": {},
   "outputs": [],
   "source": [
    "#Retrieving data from NVE\n",
    "NVE_data = get_NVE_data()\n",
    "\n",
    "\n",
    "NVE_df = pd.DataFrame(NVE_data[0]['observations'])\n",
    "NVE_df.drop(['correction', 'quality'], axis=1, inplace = True)  #Dropping uneccesary columns\n",
    "NVE_df['time'] = pd.to_datetime(NVE_df['time'])\n",
    "NVE_df.set_index('time', inplace=True)\n",
    "\n",
    "NVE_df.head()"
   ]
  },
  {
   "cell_type": "markdown",
   "metadata": {},
   "source": [
    "## Merging NVE data with csv-data"
   ]
  },
  {
   "cell_type": "code",
   "execution_count": null,
   "metadata": {},
   "outputs": [],
   "source": [
    "data['WATER_TERMPERATURE'] = NVE_df['value']\n",
    "\n",
    "data.dropna(inplace=True)\n",
    "\n",
    "data.head(5)"
   ]
  },
  {
   "cell_type": "code",
   "execution_count": null,
   "metadata": {},
   "outputs": [],
   "source": [
    "# Defining what values to use as features and what values to predict\n",
    "# When training the model, we want to use data from 2021-01-01 to 2021-07-01 \n",
    "# When predicting, we want to use data from 2021-07-02 to 2021-12-31\n",
    "\n",
    "\n",
    "training_start_date = '2021-01-01'\n",
    "training_end_date = '2021-07-01'\n",
    "predicting_start_date = '2021-07-02'\n",
    "predicting_end_date = '2021-12-31'\n",
    "\n",
    "# Filter data within the specified datetime range\n",
    "training_data = data.loc[training_start_date:training_end_date]\n",
    "testing_data = data.loc[predicting_start_date:predicting_end_date]\n",
    "\n",
    "# Select features (X) and target variable (Y) from the filtered data\n",
    "X = training_data[['AKTIV_EFFEKT', 'WATER_TERMPERATURE']]\n",
    "Y = training_data['STATOR_TEMP_L1']\n",
    "\n",
    "# Creating the linear model\n",
    "ML1 = LinearRegression().fit(X, Y)"
   ]
  },
  {
   "cell_type": "code",
   "execution_count": null,
   "metadata": {},
   "outputs": [],
   "source": [
    "#Predicting the values and placing it in a separate column in the data dataframe.\n",
    "testing_data['Prediction'] = ML1.predict(testing_data[['AKTIV_EFFEKT', 'WATER_TERMPERATURE']])\n",
    "\n",
    "fig = px.line()\n",
    "\n",
    "fig.add_trace(\n",
    "                go.Scatter(\n",
    "                    x=testing_data.index,\n",
    "                    y=testing_data['STATOR_TEMP_L1'],\n",
    "                    mode=\"lines\",\n",
    "                    name='STATOR_TEMP_L1',\n",
    "                    line=dict(color=\"blue\"),\n",
    "                )\n",
    "            )\n",
    "fig.add_trace(\n",
    "                go.Scatter(\n",
    "                    x=testing_data.index,\n",
    "                    y=testing_data['Prediction'],\n",
    "                    mode=\"lines\",\n",
    "                    name='Prediction',\n",
    "                    line=dict(color=\"green\"),\n",
    "                )\n",
    "            )\n",
    "fig.show()\n"
   ]
  },
  {
   "cell_type": "code",
   "execution_count": null,
   "metadata": {},
   "outputs": [],
   "source": [
    "testing_data['Difference'] =  testing_data['STATOR_TEMP_L1'] - testing_data['Prediction']\n",
    "difference_fig = px.line()\n",
    "difference_fig.add_trace(\n",
    "                go.Scatter(\n",
    "                    x=testing_data.index,\n",
    "                    y=testing_data['Difference'],\n",
    "                    mode=\"lines\",\n",
    "                    name='Difference',\n",
    "                    line=dict(color=\"green\"),\n",
    "                )\n",
    "            )"
   ]
  }
 ],
 "metadata": {
  "kernelspec": {
   "display_name": "Python 3",
   "language": "python",
   "name": "python3"
  },
  "language_info": {
   "codemirror_mode": {
    "name": "ipython",
    "version": 3
   },
   "file_extension": ".py",
   "mimetype": "text/x-python",
   "name": "python",
   "nbconvert_exporter": "python",
   "pygments_lexer": "ipython3",
   "version": "3.11.5"
  }
 },
 "nbformat": 4,
 "nbformat_minor": 2
}
